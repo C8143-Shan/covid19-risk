{
  "nbformat": 4,
  "nbformat_minor": 0,
  "metadata": {
    "colab": {
      "name": "Assigment- covid19 Risk.ipynb",
      "provenance": [],
      "authorship_tag": "ABX9TyNIrPl/InU+yl84tZB490aZ",
      "include_colab_link": true
    },
    "kernelspec": {
      "name": "python3",
      "display_name": "Python 3"
    },
    "language_info": {
      "name": "python"
    }
  },
  "cells": [
    {
      "cell_type": "markdown",
      "metadata": {
        "id": "view-in-github",
        "colab_type": "text"
      },
      "source": [
        "<a href=\"https://colab.research.google.com/github/C8143-Shan/covid19-risk/blob/main/Assigment_covid19_Risk.ipynb\" target=\"_parent\"><img src=\"https://colab.research.google.com/assets/colab-badge.svg\" alt=\"Open In Colab\"/></a>"
      ]
    },
    {
      "cell_type": "code",
      "metadata": {
        "colab": {
          "base_uri": "https://localhost:8080/"
        },
        "id": "frM58j84GgTy",
        "outputId": "e6d14868-7fcb-4a26-947d-ca4e7e3c2651"
      },
      "source": [
        "age = input(\"Are you a cigarette older than 75 years old? (answer = yes or no):\")\n",
        "choronic = input(\"Do yu have a severe choronic disease ?(answer = yes or no):\")\n",
        "immune = input(\"Is your immune system too weak?(answer = yes or no or I am not):\")\n",
        "\n",
        "if age == \"yes\" and choronic == \"yes\" and immune == \"yes\" :\n",
        "  risk = True\n",
        "  print(\"You are in risk group.\")\n",
        "else :\n",
        "  risk = False\n",
        "  print(\"You are not risky group.\")\n",
        "\n"
      ],
      "execution_count": null,
      "outputs": [
        {
          "output_type": "stream",
          "text": [
            "Are you a cigarette older than 75 years old? (answer = yes or no):no\n",
            "Do yu have a severe choronic disease ?(answer = yes or no):no\n",
            "Is your immune system too weak?(answer = yes or no or I am not):I am not\n",
            "You are not risky group.\n"
          ],
          "name": "stdout"
        }
      ]
    },
    {
      "cell_type": "code",
      "metadata": {
        "id": "PiE1QZ5sIwd6"
      },
      "source": [
        ""
      ],
      "execution_count": null,
      "outputs": []
    }
  ]
}